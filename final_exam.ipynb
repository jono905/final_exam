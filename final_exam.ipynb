{
 "cells": [
  {
   "cell_type": "code",
   "execution_count": 2,
   "id": "332872ff-823e-4428-ba6e-558f99f73ba1",
   "metadata": {},
   "outputs": [],
   "source": [
    "import pandas as pd\n"
   ]
  },
  {
   "cell_type": "code",
   "execution_count": 5,
   "id": "8dd5b8d9-58ea-48af-b598-777b42f157ac",
   "metadata": {},
   "outputs": [
    {
     "name": "stdout",
     "output_type": "stream",
     "text": [
      "File not found at: /Users/scubasteve/Library/Mobile Documents/com~apple~CloudDocs/6 Data Science/Module 5 - Python/final exam/MD_agric_exam-4483.csv. Please check the file path.\n"
     ]
    }
   ],
   "source": [
    "import pandas as pd\n",
    "\n",
    "# Specify the file path to your CSV file on iCloud Drive\n",
    "file_path = '/Users/scubasteve/Library/Mobile Documents/com~apple~CloudDocs/6 Data Science/Module 5 - Python/final exam/MD_agric_exam-4483.csv'\n",
    "\n",
    "try:\n",
    "    # Load the CSV file into a DataFrame\n",
    "    crop_df = pd.read_csv(file_path)\n",
    "    \n",
    "    # Display the first few rows of the DataFrame to verify\n",
    "    print(crop_df.head())\n",
    "    \n",
    "except FileNotFoundError:\n",
    "    print(f\"File not found at: {file_path}. Please check the file path.\")\n"
   ]
  }
 ],
 "metadata": {
  "kernelspec": {
   "display_name": "Python 3 (ipykernel)",
   "language": "python",
   "name": "python3"
  },
  "language_info": {
   "codemirror_mode": {
    "name": "ipython",
    "version": 3
   },
   "file_extension": ".py",
   "mimetype": "text/x-python",
   "name": "python",
   "nbconvert_exporter": "python",
   "pygments_lexer": "ipython3",
   "version": "3.11.8"
  }
 },
 "nbformat": 4,
 "nbformat_minor": 5
}
